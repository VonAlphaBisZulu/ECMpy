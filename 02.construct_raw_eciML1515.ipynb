{
 "cells": [
  {
   "cell_type": "markdown",
   "metadata": {},
   "source": [
    "# Import related pacakages"
   ]
  },
  {
   "cell_type": "code",
   "execution_count": 13,
   "metadata": {},
   "outputs": [],
   "source": [
    "import cobra\n",
    "import sys\n",
    "sys.path.append(r'./code/')\n",
    "from cobrapy_ec_model_function import *"
   ]
  },
  {
   "cell_type": "markdown",
   "metadata": {},
   "source": [
    "# Input and output files"
   ]
  },
  {
   "cell_type": "code",
   "execution_count": 12,
   "metadata": {},
   "outputs": [],
   "source": [
    "#input files\n",
    "# The genome-scale metabolic model for constructing the enzyme-constrained model\n",
    "model_name = './model/iML1515_new.xml' \n",
    "\n",
    "# Reaction-kcat file.\n",
    "# eg. AADDGT,64.41327046 #s-1\n",
    "reaction_kcat_file = './data/nc_machine_learning_kapp.json'\n",
    "select_key = 'kappmax_ensemble_model_s-1'\n",
    "\n",
    "# Gene-abundance file organized from PAXdb\n",
    "# eg. b0789,1.1\n",
    "gene_abundance_file = \"./data/gene_abundance.csv\"\n",
    "\n",
    "# Gene-molecular_weight file organized from EcoCyc\n",
    "# eg. b3500,48.77251\n",
    "gene_molecular_weight_file = \"./data/gene_molecular_weight.csv\"\n",
    "\n",
    "reaction_gene_subunit_file = \"./data/reaction_gene_subunit.csv\"\n",
    "c13reaction_file = './data/C13reaction.csv' \n",
    "\n",
    "\n",
    "#output files\n",
    "gene_outfile = \"./analysis/genes.csv\"\n",
    "gpr_outfile = \"./analysis/all_reaction_GPR.csv\"\n",
    "reaction_gene_subunit_MW_file = \"./analysis/reaction_gene_subunit_MW.csv\"\n",
    "reaction_MW_file = \"./analysis/reaction_MW.csv\"\n",
    "reaction_kcat_MW_file = \"./analysis/reaction_kcat_MW.csv\"\n",
    "json_output_file=\"./model/iML1515_irr_enz_constraint.json\"\n",
    "ECMpy_fluxes_outfile = './analysis/ECMpy_ori_solution_df_pfba.csv'\n",
    "GEM_fluxes_outfile = './analysis/Orimodel_solution_df_pfba.csv'"
   ]
  },
  {
   "cell_type": "markdown",
   "metadata": {},
   "source": [
    "# Step1: Preprocessing of model"
   ]
  },
  {
   "cell_type": "markdown",
   "metadata": {},
   "source": [
    "The reversible reactions in the GEM model are divided into two irreversible reactions and splited isoenzyme. The input is iML1515 with 2713 reactions. The output is a model with 3356 irreversible reactions."
   ]
  },
  {
   "cell_type": "code",
   "execution_count": 3,
   "metadata": {
    "tags": []
   },
   "outputs": [
    {
     "data": {
      "text/html": [
       "\n",
       "        <table>\n",
       "            <tr>\n",
       "                <td><strong>Name</strong></td>\n",
       "                <td>iML1515</td>\n",
       "            </tr><tr>\n",
       "                <td><strong>Memory address</strong></td>\n",
       "                <td>0x07f904f063130</td>\n",
       "            </tr><tr>\n",
       "                <td><strong>Number of metabolites</strong></td>\n",
       "                <td>1877</td>\n",
       "            </tr><tr>\n",
       "                <td><strong>Number of reactions</strong></td>\n",
       "                <td>5883</td>\n",
       "            </tr><tr>\n",
       "                <td><strong>Number of groups</strong></td>\n",
       "                <td>38</td>\n",
       "            </tr><tr>\n",
       "                <td><strong>Objective expression</strong></td>\n",
       "                <td>1.0*BIOMASS_Ec_iML1515_core_75p37M - 1.0*BIOMASS_Ec_iML1515_core_75p37M_reverse_35685</td>\n",
       "            </tr><tr>\n",
       "                <td><strong>Compartments</strong></td>\n",
       "                <td>cytosol, extracellular space, periplasm</td>\n",
       "            </tr>\n",
       "          </table>"
      ],
      "text/plain": [
       "<Model iML1515 at 0x7f904f063130>"
      ]
     },
     "execution_count": 3,
     "metadata": {},
     "output_type": "execute_result"
    }
   ],
   "source": [
    "model = cobra.io.read_sbml_model(model_name)\n",
    "convert_to_irreversible(model)\n",
    "#split isoenzyme\n",
    "model = isoenzyme_split(model)\n",
    "model"
   ]
  },
  {
   "cell_type": "markdown",
   "metadata": {},
   "source": [
    "# Step2: Retrieving enzyme kinetics and proteomics data"
   ]
  },
  {
   "cell_type": "markdown",
   "metadata": {},
   "source": [
    "The inputs are GEM model. The outputs are 'genes' and 'gpr_relationship' data in the iML1515."
   ]
  },
  {
   "cell_type": "code",
   "execution_count": 4,
   "metadata": {},
   "outputs": [],
   "source": [
    "[genes,gpr_relationship] = get_genes_and_gpr(model,gene_outfile,gpr_outfile)"
   ]
  },
  {
   "cell_type": "markdown",
   "metadata": {},
   "source": [
    "Get the molecular weight of the enzyme (MW) according to the file of all_reaction_GPR.csv, which obtained from the previous step (gpr_relationship, ./analysis/all_reaction_GPR.csv). We need to manually correct the error of the gene_reaction_rule of a small amount of reactions in iML1515 (See Supplementary Table S1 for details), and also need to manually get the subunit of each protein from EcoCyc."
   ]
  },
  {
   "cell_type": "code",
   "execution_count": 5,
   "metadata": {},
   "outputs": [
    {
     "data": {
      "text/html": [
       "<div>\n",
       "<style scoped>\n",
       "    .dataframe tbody tr th:only-of-type {\n",
       "        vertical-align: middle;\n",
       "    }\n",
       "\n",
       "    .dataframe tbody tr th {\n",
       "        vertical-align: top;\n",
       "    }\n",
       "\n",
       "    .dataframe thead th {\n",
       "        text-align: right;\n",
       "    }\n",
       "</style>\n",
       "<table border=\"1\" class=\"dataframe\">\n",
       "  <thead>\n",
       "    <tr style=\"text-align: right;\">\n",
       "      <th></th>\n",
       "      <th>name</th>\n",
       "      <th>gene_reaction_rule</th>\n",
       "      <th>subunit_num</th>\n",
       "      <th>subunit_mw</th>\n",
       "    </tr>\n",
       "  </thead>\n",
       "  <tbody>\n",
       "    <tr>\n",
       "      <th>ALATA_D2_num1</th>\n",
       "      <td>D-alanine transaminase</td>\n",
       "      <td>b2551</td>\n",
       "      <td>2</td>\n",
       "      <td>45.31659</td>\n",
       "    </tr>\n",
       "    <tr>\n",
       "      <th>ALATA_D2_num2</th>\n",
       "      <td>D-alanine transaminase</td>\n",
       "      <td>b0870</td>\n",
       "      <td>4</td>\n",
       "      <td>36.49471</td>\n",
       "    </tr>\n",
       "    <tr>\n",
       "      <th>SHCHD2</th>\n",
       "      <td>Sirohydrochlorin dehydrogenase (NAD)</td>\n",
       "      <td>b3368</td>\n",
       "      <td>2</td>\n",
       "      <td>49.95140</td>\n",
       "    </tr>\n",
       "    <tr>\n",
       "      <th>CPPPGO</th>\n",
       "      <td>Coproporphyrinogen oxidase (O2 required)</td>\n",
       "      <td>b2436</td>\n",
       "      <td>2</td>\n",
       "      <td>34.32263</td>\n",
       "    </tr>\n",
       "    <tr>\n",
       "      <th>GTHOr</th>\n",
       "      <td>Glutathione oxidoreductase</td>\n",
       "      <td>b3500</td>\n",
       "      <td>2</td>\n",
       "      <td>48.77251</td>\n",
       "    </tr>\n",
       "  </tbody>\n",
       "</table>\n",
       "</div>"
      ],
      "text/plain": [
       "                                                   name gene_reaction_rule  \\\n",
       "ALATA_D2_num1                    D-alanine transaminase              b2551   \n",
       "ALATA_D2_num2                    D-alanine transaminase              b0870   \n",
       "SHCHD2             Sirohydrochlorin dehydrogenase (NAD)              b3368   \n",
       "CPPPGO         Coproporphyrinogen oxidase (O2 required)              b2436   \n",
       "GTHOr                        Glutathione oxidoreductase              b3500   \n",
       "\n",
       "              subunit_num subunit_mw  \n",
       "ALATA_D2_num1           2   45.31659  \n",
       "ALATA_D2_num2          4    36.49471  \n",
       "SHCHD2                  2   49.95140  \n",
       "CPPPGO                  2   34.32263  \n",
       "GTHOr                   2   48.77251  "
      ]
     },
     "execution_count": 5,
     "metadata": {},
     "output_type": "execute_result"
    }
   ],
   "source": [
    "reaction_gene_subunit_MW = get_reaction_gene_subunit_MW(reaction_gene_subunit_file,gene_molecular_weight_file,reaction_gene_subunit_MW_file)\n",
    "reaction_gene_subunit_MW.head(5)"
   ]
  },
  {
   "cell_type": "code",
   "execution_count": 6,
   "metadata": {},
   "outputs": [
    {
     "data": {
      "text/html": [
       "<div>\n",
       "<style scoped>\n",
       "    .dataframe tbody tr th:only-of-type {\n",
       "        vertical-align: middle;\n",
       "    }\n",
       "\n",
       "    .dataframe tbody tr th {\n",
       "        vertical-align: top;\n",
       "    }\n",
       "\n",
       "    .dataframe thead th {\n",
       "        text-align: right;\n",
       "    }\n",
       "</style>\n",
       "<table border=\"1\" class=\"dataframe\">\n",
       "  <thead>\n",
       "    <tr style=\"text-align: right;\">\n",
       "      <th></th>\n",
       "      <th>MW</th>\n",
       "    </tr>\n",
       "  </thead>\n",
       "  <tbody>\n",
       "    <tr>\n",
       "      <th>ALATA_D2_num1</th>\n",
       "      <td>90.6332</td>\n",
       "    </tr>\n",
       "    <tr>\n",
       "      <th>ALATA_D2_num2</th>\n",
       "      <td>145.9788</td>\n",
       "    </tr>\n",
       "    <tr>\n",
       "      <th>SHCHD2</th>\n",
       "      <td>99.9028</td>\n",
       "    </tr>\n",
       "    <tr>\n",
       "      <th>CPPPGO</th>\n",
       "      <td>68.6453</td>\n",
       "    </tr>\n",
       "    <tr>\n",
       "      <th>GTHOr</th>\n",
       "      <td>97.545</td>\n",
       "    </tr>\n",
       "  </tbody>\n",
       "</table>\n",
       "</div>"
      ],
      "text/plain": [
       "                     MW\n",
       "ALATA_D2_num1   90.6332\n",
       "ALATA_D2_num2  145.9788\n",
       "SHCHD2          99.9028\n",
       "CPPPGO          68.6453\n",
       "GTHOr            97.545"
      ]
     },
     "execution_count": 6,
     "metadata": {},
     "output_type": "execute_result"
    }
   ],
   "source": [
    "# reaction-gene-subunit-MW file. \n",
    "# eg. ALATA_D2,D-alanine transaminase,b2551 or b0870,45.31659 or 36.49471 ,2 or 4 \n",
    "reaction_MW = calculate_reaction_mw(reaction_gene_subunit_MW_file,reaction_MW_file)\n",
    "reaction_MW.head(5)"
   ]
  },
  {
   "cell_type": "markdown",
   "metadata": {},
   "source": [
    "Calculate kcat/MW. The inputs are 'reaction_kcat' and 'reaction_MW' data for calculating the kcat/MW (When the reaction is catalyzed by several isozymes, the maximum is retained)."
   ]
  },
  {
   "cell_type": "code",
   "execution_count": 7,
   "metadata": {},
   "outputs": [
    {
     "data": {
      "text/html": [
       "<div>\n",
       "<style scoped>\n",
       "    .dataframe tbody tr th:only-of-type {\n",
       "        vertical-align: middle;\n",
       "    }\n",
       "\n",
       "    .dataframe tbody tr th {\n",
       "        vertical-align: top;\n",
       "    }\n",
       "\n",
       "    .dataframe thead th {\n",
       "        text-align: right;\n",
       "    }\n",
       "</style>\n",
       "<table border=\"1\" class=\"dataframe\">\n",
       "  <thead>\n",
       "    <tr style=\"text-align: right;\">\n",
       "      <th></th>\n",
       "      <th>MW</th>\n",
       "      <th>kcat</th>\n",
       "      <th>kcat_MW</th>\n",
       "    </tr>\n",
       "  </thead>\n",
       "  <tbody>\n",
       "    <tr>\n",
       "      <th>ALATA_D2_num1</th>\n",
       "      <td>90.6332</td>\n",
       "      <td>9300.506998</td>\n",
       "      <td>102.616999</td>\n",
       "    </tr>\n",
       "    <tr>\n",
       "      <th>ALATA_D2_num2</th>\n",
       "      <td>145.9788</td>\n",
       "      <td>9300.506998</td>\n",
       "      <td>63.711354</td>\n",
       "    </tr>\n",
       "    <tr>\n",
       "      <th>SHCHD2</th>\n",
       "      <td>99.9028</td>\n",
       "      <td>1224.000000</td>\n",
       "      <td>12.251909</td>\n",
       "    </tr>\n",
       "    <tr>\n",
       "      <th>CPPPGO</th>\n",
       "      <td>68.6453</td>\n",
       "      <td>900.000000</td>\n",
       "      <td>13.110876</td>\n",
       "    </tr>\n",
       "    <tr>\n",
       "      <th>GTHOr</th>\n",
       "      <td>97.5450</td>\n",
       "      <td>25901.616143</td>\n",
       "      <td>265.535047</td>\n",
       "    </tr>\n",
       "  </tbody>\n",
       "</table>\n",
       "</div>"
      ],
      "text/plain": [
       "                     MW          kcat     kcat_MW\n",
       "ALATA_D2_num1   90.6332   9300.506998  102.616999\n",
       "ALATA_D2_num2  145.9788   9300.506998   63.711354\n",
       "SHCHD2          99.9028   1224.000000   12.251909\n",
       "CPPPGO          68.6453    900.000000   13.110876\n",
       "GTHOr           97.5450  25901.616143  265.535047"
      ]
     },
     "execution_count": 7,
     "metadata": {},
     "output_type": "execute_result"
    }
   ],
   "source": [
    "reaction_kcat_mw = calculate_reaction_kcat_mw(reaction_kcat_file, reaction_MW_file, reaction_kcat_MW_file,select_key)\n",
    "reaction_kcat_mw.head(5)"
   ]
  },
  {
   "cell_type": "markdown",
   "metadata": {},
   "source": [
    "Calculate f. The input is 'genes' data, 'gene_abundance.csv' and 'gene_molecular_weight.csv'."
   ]
  },
  {
   "cell_type": "code",
   "execution_count": 8,
   "metadata": {
    "tags": []
   },
   "outputs": [
    {
     "data": {
      "text/plain": [
       "0.4059986079578236"
      ]
     },
     "execution_count": 8,
     "metadata": {},
     "output_type": "execute_result"
    }
   ],
   "source": [
    "f = calculate_f(genes, gene_abundance_file, gene_molecular_weight_file)\n",
    "f"
   ]
  },
  {
   "cell_type": "markdown",
   "metadata": {},
   "source": [
    "# Step3: Save enzyme concentration constraint model as json file."
   ]
  },
  {
   "cell_type": "markdown",
   "metadata": {},
   "source": [
    "enzyme model needed data"
   ]
  },
  {
   "cell_type": "code",
   "execution_count": 9,
   "metadata": {},
   "outputs": [],
   "source": [
    "#The enzyme mass fraction \n",
    "f = 0.406\n",
    "# The total protein fraction in cell.\n",
    "ptot = 0.56 \n",
    "# The approximated average saturation of enzyme.\n",
    "sigma = 1 #kapp data sigma is 1\n",
    "# Lowerbound  of enzyme concentration constraint. \n",
    "lowerbound = 0   \n",
    "upperbound = round(ptot * f * sigma, 3)"
   ]
  },
  {
   "cell_type": "code",
   "execution_count": 10,
   "metadata": {},
   "outputs": [
    {
     "name": "stdout",
     "output_type": "stream",
     "text": [
      "0.3685101074308255\n",
      "0.8697726420320147\n",
      "['ME2', 'ICL', 'AKGDH', 'SUCOAS_reverse', 'SUCDi', 'ACKr_reverse', 'PTAr', 'MDH', 'PDH']\n"
     ]
    }
   ],
   "source": [
    "#create enzyme concentration constraint model\n",
    "trans_model2enz_json_model_split_isoenzyme(model_name, reaction_kcat_MW_file, f, ptot, sigma, lowerbound, upperbound, json_output_file)\n",
    "\n",
    "enz_model=get_enzyme_constraint_model(json_output_file)\n",
    "enz_model_pfba_solution = get_fluxes_detail_in_model(enz_model,ECMpy_fluxes_outfile,reaction_kcat_MW_file)\n",
    "print(enz_model_pfba_solution.fluxes['BIOMASS_Ec_iML1515_core_75p37M'])\n",
    "\n",
    "norm_model = cobra.io.json.load_json_model(json_output_file)\n",
    "norm_model_pfba_solution = cobra.flux_analysis.pfba(norm_model)\n",
    "norm_model_pfba_solution_df = norm_model_pfba_solution.to_frame()\n",
    "norm_model_pfba_solution_df.to_csv(GEM_fluxes_outfile)\n",
    "print(norm_model_pfba_solution_df.fluxes['BIOMASS_Ec_iML1515_core_75p37M'])\n",
    "\n",
    "#Compare with C13 data\n",
    "c13reaction_2_enz_model_diff = get_diff_reaction_use_c13(c13reaction_file,enz_model_pfba_solution)\n",
    "print (c13reaction_2_enz_model_diff)"
   ]
  },
  {
   "cell_type": "code",
   "execution_count": null,
   "metadata": {},
   "outputs": [],
   "source": []
  }
 ],
 "metadata": {
  "kernelspec": {
   "display_name": "ECMpy",
   "language": "python",
   "name": "ecmpy"
  },
  "language_info": {
   "codemirror_mode": {
    "name": "ipython",
    "version": 3
   },
   "file_extension": ".py",
   "mimetype": "text/x-python",
   "name": "python",
   "nbconvert_exporter": "python",
   "pygments_lexer": "ipython3",
   "version": "3.8.8"
  }
 },
 "nbformat": 4,
 "nbformat_minor": 4
}
