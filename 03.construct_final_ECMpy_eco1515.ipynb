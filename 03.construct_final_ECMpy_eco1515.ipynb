{
 "cells": [
  {
   "cell_type": "markdown",
   "metadata": {},
   "source": [
    "# Import related pacakages"
   ]
  },
  {
   "cell_type": "code",
   "execution_count": 1,
   "metadata": {},
   "outputs": [],
   "source": [
    "import cobra\n",
    "import sys\n",
    "sys.path.append(r'./code/')\n",
    "from cobrapy_ec_model_function import *"
   ]
  },
  {
   "cell_type": "markdown",
   "metadata": {},
   "source": [
    "# Input and output data"
   ]
  },
  {
   "cell_type": "code",
   "execution_count": 2,
   "metadata": {},
   "outputs": [],
   "source": [
    "#enyme model needed data\n",
    "#The enzyme mass fraction \n",
    "f = 0.406\n",
    "# The total protein fraction in cell.\n",
    "ptot = 0.56 \n",
    "# The approximated average saturation of enzyme.\n",
    "sigma = 1 #kapp data sigma is 1\n",
    "# Lowerbound  of enzyme concentration constraint. \n",
    "lowerbound = 0   \n",
    "upperbound = round(ptot * f * sigma, 3)\n",
    "\n",
    "model_name = './model/iML1515_new.xml' \n",
    "c13reaction_file = './data/C13reaction.csv' \n",
    "\n",
    "#max kcat for EC number selected from BRENDA and SABIO-RK database(use autoPACMEN)\n",
    "kcat_database_combined_file= './data/Brenda_sabio_combined_select.json'\n",
    "\n",
    "reaction_kcat_MW_file = './analysis/reaction_kcat_MW.csv'\n",
    "fluxes_infile_ori = './analysis/ECMpy_ori_solution_df_pfba.csv'\n",
    "json_model_path = './model/iML1515_irr_enz_constraint.json'\n",
    "\n",
    "enz_ratio=0.01\n",
    "reaction_enz_usage_file = './analysis/ECMpy_adj_round1_reaction_enz_usage_df.csv'\n",
    "reaction_kcat_MW_round1_outfile = './analysis/reaction_change_by_enzuse.csv'\n",
    "json_round1_output_file = './model/iML1515_irr_enz_constraint_adj_round1.json'\n",
    "round1_fluxes_outfile = './analysis/ECMpy_adj_round1_solution_df_pfba.csv'\n",
    "\n",
    "c13_percentage=0.1\n",
    "json_round2_output_file= './model/iML1515_irr_enz_constraint_adj_round2.json'\n",
    "reaction_kcat_MW_round2_outfile = './analysis/reaction_change_by_c13.csv'\n",
    "round2_fluxes_outfile = './analysis/ECMpy_adj_round2_solution_df_pfba.csv'"
   ]
  },
  {
   "cell_type": "markdown",
   "metadata": {},
   "source": [
    "# Step1:  Calibration kcat according Enzyme usage "
   ]
  },
  {
   "cell_type": "code",
   "execution_count": 3,
   "metadata": {
    "scrolled": true
   },
   "outputs": [
    {
     "name": "stdout",
     "output_type": "stream",
     "text": [
      "need changing reaction: \n",
      "['GAPD', 'ENO', 'FBA_num1', 'NADH16pp', 'RBFSa', 'KARA2', 'KARA1_reverse', 'ACCOAC', '5DKGR_num1', 'METS_num2', 'PGK_reverse', 'GND', 'PFL_num3', 'PGM_reverse_num2', 'GHMT2r', 'GLNS', 'PPC', 'METAT', 'PGI', 'ATPS4rpp_num2']\n",
      "changed reaction: \n",
      "['GAPD', 'ENO', 'FBA_num1', 'NADH16pp', 'RBFSa', 'KARA2', 'ACCOAC', 'METS_num2', 'GND', 'GHMT2r', 'GLNS', 'PPC', 'METAT', 'PGI']\n",
      "0.5594463187828271\n",
      "['ICL', 'AKGDH', 'SUCDi', 'ME2', 'SUCOAS_reverse', 'PDH']\n"
     ]
    }
   ],
   "source": [
    "enz_model=get_enz_model_use_enz_usage_by_eckcat(enz_ratio,json_model_path,fluxes_infile_ori,reaction_kcat_MW_file,\\\n",
    "                                      reaction_enz_usage_file,kcat_database_combined_file, model_name, \\\n",
    "                                      f, ptot, sigma, lowerbound, upperbound, json_round1_output_file, \\\n",
    "                                      reaction_kcat_MW_round1_outfile)\n",
    "\n",
    "enz_model_pfba_solution = get_fluxes_detail_in_model(enz_model,round1_fluxes_outfile,reaction_kcat_MW_round1_outfile)\n",
    "print(enz_model_pfba_solution.fluxes['BIOMASS_Ec_iML1515_core_75p37M'])\n",
    "\n",
    "c13reaction_2_enz_model_diff = get_diff_reaction_use_c13(c13reaction_file,enz_model_pfba_solution)\n",
    "print (c13reaction_2_enz_model_diff)"
   ]
  },
  {
   "cell_type": "markdown",
   "metadata": {},
   "source": [
    "# Step2: Calibration kcat according c13 reaction list"
   ]
  },
  {
   "cell_type": "code",
   "execution_count": 4,
   "metadata": {},
   "outputs": [
    {
     "name": "stdout",
     "output_type": "stream",
     "text": [
      "need changing reaction: \n",
      "['PDH', 'AKGDH']\n",
      "changed reaction: \n",
      "['PDH', 'AKGDH']\n",
      "0.6802441208858396\n",
      "['ME2', 'ICL', 'SUCOAS_reverse']\n"
     ]
    }
   ],
   "source": [
    "enz_model=get_enz_model_use_c13(reaction_kcat_MW_round1_outfile, json_model_path, c13reaction_file, c13_percentage, \\\n",
    "                                kcat_database_combined_file,model_name, f, ptot, sigma, lowerbound, \\\n",
    "                                upperbound, json_round2_output_file,reaction_kcat_MW_round2_outfile)\n",
    "\n",
    "enz_model_pfba_solution = get_fluxes_detail_in_model(enz_model,round2_fluxes_outfile,reaction_kcat_MW_round2_outfile)\n",
    "print(enz_model_pfba_solution.fluxes['BIOMASS_Ec_iML1515_core_75p37M'])\n",
    "\n",
    "c13reaction_2_enz_model_diff = get_diff_reaction_use_c13(c13reaction_file,enz_model_pfba_solution)\n",
    "print (c13reaction_2_enz_model_diff)"
   ]
  },
  {
   "cell_type": "markdown",
   "metadata": {},
   "source": [
    "# Step3: Solveing enzyme concentration constraint by COBRApy."
   ]
  },
  {
   "cell_type": "code",
   "execution_count": 5,
   "metadata": {},
   "outputs": [
    {
     "name": "stdout",
     "output_type": "stream",
     "text": [
      "0.6802441208858396\n",
      "7.711579625177092\n"
     ]
    }
   ],
   "source": [
    "#run enzyme constraint metabolic model\n",
    "enz_model=get_enzyme_constraint_model(json_round2_output_file)\n",
    "#enz_model.reactions.get_by_id('EX_glc__D_e_reverse').bounds = (13, 13)\n",
    "pfba_solution = cobra.flux_analysis.pfba(enz_model)\n",
    "pfba_solution_df = pfba_solution.to_frame()\n",
    "pfba_solution_df.to_csv('./analysis/ECMpy_solution_df_pfba.csv')\n",
    "print(pfba_solution.fluxes['BIOMASS_Ec_iML1515_core_75p37M'])\n",
    "print(pfba_solution.fluxes['EX_ac_e'])"
   ]
  },
  {
   "cell_type": "code",
   "execution_count": 6,
   "metadata": {},
   "outputs": [
    {
     "name": "stdout",
     "output_type": "stream",
     "text": [
      "0.8697726420320147\n",
      "0.0\n"
     ]
    }
   ],
   "source": [
    "#run genome-scale metabolic model\n",
    "norm_model=cobra.io.json.load_json_model(json_round2_output_file)\n",
    "#norm_model.reactions.get_by_id('EX_glc__D_e_reverse').bounds = (13, 13)\n",
    "pfba_solution = cobra.flux_analysis.pfba(norm_model)\n",
    "pfba_solution_df = pfba_solution.to_frame()\n",
    "#pfba_solution_df.to_csv('./analysis/Orimodel_solution_df_pfba.csv')\n",
    "print(pfba_solution.fluxes['BIOMASS_Ec_iML1515_core_75p37M'])\n",
    "print(pfba_solution.fluxes['EX_ac_e'])"
   ]
  },
  {
   "cell_type": "code",
   "execution_count": null,
   "metadata": {},
   "outputs": [],
   "source": []
  }
 ],
 "metadata": {
  "kernelspec": {
   "display_name": "ECMpy",
   "language": "python",
   "name": "ecmpy"
  },
  "language_info": {
   "codemirror_mode": {
    "name": "ipython",
    "version": 3
   },
   "file_extension": ".py",
   "mimetype": "text/x-python",
   "name": "python",
   "nbconvert_exporter": "python",
   "pygments_lexer": "ipython3",
   "version": "3.8.5"
  }
 },
 "nbformat": 4,
 "nbformat_minor": 4
}
